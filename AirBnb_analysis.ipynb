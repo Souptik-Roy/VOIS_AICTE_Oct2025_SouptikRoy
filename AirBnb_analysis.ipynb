{
 "cells": [
  {
   "cell_type": "markdown",
   "id": "412e1c1e",
   "metadata": {},
   "source": [
    "### 1. What are the unique property or room types in the dataset?"
   ]
  },
  {
   "cell_type": "code",
   "execution_count": null,
   "id": "940425c3",
   "metadata": {},
   "outputs": [],
   "source": [
    "import pandas as pd\n",
    "import numpy as np\n",
    "import matplotlib.pyplot as plt\n",
    "import seaborn as sns\n",
    "df = pd.read_excel('Airbnb_Open_Data_Set.xlsx', sheet_name='in')\n",
    "df.columns = [c.strip().lower() for c in df.columns]\n",
    "room_cols = ['room_type','room type','property_type','property type']\n",
    "room_col = next((c for c in room_cols if c in df.columns), None)\n",
    "if room_col is None:\n",
    "    print('No room/property type column found')\n",
    "else:\n",
    "    uniq = df[room_col].dropna().astype(str).str.strip().unique()\n",
    "    print(pd.Series(uniq))\n",
    "    plt.figure(figsize=(6.5,4))\n",
    "    df[room_col].astype(str).str.strip().value_counts().head(15).plot(kind='bar')\n",
    "    plt.title('Top room/property types')\n",
    "    plt.xlabel('Type')\n",
    "    plt.ylabel('Count')\n",
    "    plt.tight_layout()\n",
    "    plt.show()\n",
    "print('Listed unique types and plotted top counts')"
   ]
  },
  {
   "cell_type": "markdown",
   "id": "cebf2bd5",
   "metadata": {},
   "source": [
    "### 2. Which neighborhood has the highest number of listings?"
   ]
  },
  {
   "cell_type": "code",
   "execution_count": null,
   "id": "597de1d0",
   "metadata": {},
   "outputs": [],
   "source": [
    "neigh_cols = ['neighbourhood','neighborhood','neighbourhood_cleansed','neighborhood_cleansed']\n",
    "neigh_col = next((c for c in neigh_cols if c in df.columns), None)\n",
    "if neigh_col is None:\n",
    "    print('No neighborhood column found')\n",
    "else:\n",
    "    counts = df[neigh_col].astype(str).str.strip().value_counts()\n",
    "    print(counts.head(20))\n",
    "    plt.figure(figsize=(7,4))\n",
    "    counts.head(15).plot(kind='bar', color='#4C78A8')\n",
    "    plt.title('Listings by neighborhood (top 15)')\n",
    "    plt.xlabel('Neighborhood')\n",
    "    plt.ylabel('Listings')\n",
    "    plt.tight_layout()\n",
    "    plt.show()\n",
    "print('Computed neighborhood listing counts and chart')"
   ]
  },
  {
   "cell_type": "markdown",
   "id": "778bb19b",
   "metadata": {},
   "source": [
    "### 3. Which boroughs or areas have the highest average prices?"
   ]
  },
  {
   "cell_type": "code",
   "execution_count": null,
   "id": "c783ed66",
   "metadata": {},
   "outputs": [],
   "source": [
    "price_cols = ['price','daily_price','avg_price']\n",
    "price_col = next((c for c in price_cols if c in df.columns), None)\n",
    "if price_col is None:\n",
    "    print('No price column found')\n",
    "else:\n",
    "    df[price_col] = pd.to_numeric(df[price_col], errors='coerce')\n",
    "area_cols = ['borough','city','state','neighbourhood_group','neighborhood_group']\n",
    "area_col = next((c for c in area_cols if c in df.columns), None)\n",
    "if price_col is None or area_col is None:\n",
    "    print('Insufficient columns for area price analysis')\n",
    "else:\n",
    "    avg_price = df.groupby(df[area_col].astype(str).str.strip())[price_col].mean().sort_values(ascending=False)\n",
    "    print(avg_price.head(20))\n",
    "    plt.figure(figsize=(7.5,4.5))\n",
    "    avg_price.head(10).plot(kind='bar', color='#72B7B2')\n",
    "    plt.title('Avg price by area (top 10)')\n",
    "    plt.xlabel('Area')\n",
    "    plt.ylabel('Average price')\n",
    "    plt.tight_layout()\n",
    "    plt.show()\n",
    "print('Calculated and plotted avg prices by area')"
   ]
  },
  {
   "cell_type": "markdown",
   "id": "0fa511b7",
   "metadata": {},
   "source": [
    "### 4. Is there a relationship between construction year and listing price?"
   ]
  },
  {
   "cell_type": "code",
   "execution_count": null,
   "id": "467b87db",
   "metadata": {},
   "outputs": [],
   "source": [
    "year_cols = ['year_built','construction_year','built_year']\n",
    "year_col = next((c for c in year_cols if c in df.columns), None)\n",
    "if price_col is None or year_col is None:\n",
    "    print('Insufficient columns for year vs price')\n",
    "else:\n",
    "    df[year_col] = pd.to_numeric(df[year_col], errors='coerce')\n",
    "    dfx = df[[year_col, price_col]].dropna()\n",
    "    dfx = dfx[(dfx[year_col] >= 1800) & (dfx[year_col] <= 2030)]\n",
    "    dfx = dfx[dfx[price_col] >= 0]\n",
    "    if len(dfx) > 0:\n",
    "        dfx = dfx.sort_values(year_col)\n",
    "        plt.figure(figsize=(6.8,4.5))\n",
    "        sns.scatterplot(data=dfx.sample(min(len(dfx), 5000), random_state=42), x=year_col, y=price_col, alpha=0.3, s=15)\n",
    "        sns.regplot(data=dfx, x=year_col, y=price_col, scatter=False, color='#E45756')\n",
    "        plt.title('Price vs Construction year')\n",
    "        plt.tight_layout()\n",
    "        plt.show()\n",
    "        dfx['year_bin'] = pd.cut(dfx[year_col], bins=list(range(1800, 2031, 10)))\n",
    "        bin_avg = dfx.groupby('year_bin')[price_col].mean()\n",
    "        print(bin_avg.dropna().head(25))\n",
    "        plt.figure(figsize=(6.8,4))\n",
    "        plt.plot(range(len(bin_avg.dropna())), bin_avg.dropna().values, marker='o')\n",
    "        plt.xlabel('Construction year bins')\n",
    "        plt.ylabel('Avg price')\n",
    "        plt.title('Avg price by construction year bin')\n",
    "        plt.tight_layout()\n",
    "        plt.show()\n",
    "    else:\n",
    "        print('No usable rows for year vs price')\n",
    "print('Analyzed construction year vs price')"
   ]
  },
  {
   "cell_type": "markdown",
   "id": "ee077478",
   "metadata": {},
   "source": [
    "### 5. Who are the top hosts by number of listings?"
   ]
  },
  {
   "cell_type": "code",
   "execution_count": null,
   "id": "7e3649f3",
   "metadata": {},
   "outputs": [],
   "source": [
    "host_cols = ['host_name','host name']\n",
    "host_col = next((c for c in host_cols if c in df.columns), None)\n",
    "host_count_cols = ['calculated_host_listings_count','host_listings_count','host listings count']\n",
    "host_count_col = next((c for c in host_count_cols if c in df.columns), None)\n",
    "if host_count_col is None:\n",
    "    print('No host listings count column found')\n",
    "else:\n",
    "    df[host_count_col] = pd.to_numeric(df[host_count_col], errors='coerce')\n",
    "    if host_col is not None:\n",
    "        top_hosts = df.groupby(df[host_col].astype(str).str.strip())[host_count_col].max().sort_values(ascending=False).head(10)\n",
    "        print(top_hosts)\n",
    "        plt.figure(figsize=(7,4))\n",
    "        top_hosts.plot(kind='bar', color='#F58518')\n",
    "        plt.title('Top 10 hosts by calculated listings count')\n",
    "        plt.xlabel('Host')\n",
    "        plt.ylabel('Listings count')\n",
    "        plt.tight_layout()\n",
    "        plt.show()\n",
    "    else:\n",
    "        top_hosts = df[host_count_col].sort_values(ascending=False).head(10)\n",
    "        print(top_hosts)\n",
    "print('Listed top hosts')"
   ]
  },
  {
   "cell_type": "markdown",
   "id": "141fe52a",
   "metadata": {},
   "source": [
    "### 6. Are hosts with verified identities more likely to receive positive reviews?"
   ]
  },
  {
   "cell_type": "code",
   "execution_count": null,
   "id": "f96b1aac",
   "metadata": {},
   "outputs": [],
   "source": [
    "from scipy import stats\n",
    "verified_col = 'host_identity_verified' if 'host_identity_verified' in df.columns else ('host identity verified' if 'host identity verified' in df.columns else None)\n",
    "rating_cols = ['review_scores_rating','review scores rating','review_score','review scores value','review_scores_value']\n",
    "rating_col = next((c for c in rating_cols if c in df.columns), None)\n",
    "if rating_col is None:\n",
    "    print('No review rating column found')\n",
    "else:\n",
    "    df[rating_col] = pd.to_numeric(df[rating_col], errors='coerce')\n",
    "if verified_col is not None and rating_col is not None:\n",
    "    vals = df[rating_col]\n",
    "    if vals.dropna().between(0, 5).mean() > 0.9:\n",
    "        df['rating_100'] = vals * 20.0\n",
    "    else:\n",
    "        df['rating_100'] = vals\n",
    "    grp = df[[verified_col, 'rating_100']].dropna()\n",
    "    if grp[verified_col].dtype == object:\n",
    "        grp[verified_col] = grp[verified_col].astype(str).str.lower().str.strip()\n",
    "    a = grp.loc[grp[verified_col].isin(['t','true','yes','y','1','verified']), 'rating_100']\n",
    "    b = grp.loc[~grp[verified_col].isin(['t','true','yes','y','1','verified']), 'rating_100']\n",
    "    if len(a) > 1 and len(b) > 1:\n",
    "        tstat, pval = stats.ttest_ind(a, b, equal_var=False, nan_policy='omit')\n",
    "        print(a.mean())\n",
    "        print(b.mean())\n",
    "        print(pval)\n",
    "        plt.figure(figsize=(6,4))\n",
    "        sns.kdeplot(a, label='Verified', fill=True, alpha=0.3)\n",
    "        sns.kdeplot(b, label='Not verified', fill=True, alpha=0.3)\n",
    "        plt.legend()\n",
    "        plt.title('Ratings distribution by host verification')\n",
    "        plt.tight_layout()\n",
    "        plt.show()\n",
    "    else:\n",
    "        print('Insufficient data for t-test')\n",
    "print('Checked verification vs reviews')"
   ]
  },
  {
   "cell_type": "markdown",
   "id": "f9db7f3f",
   "metadata": {},
   "source": [
    "### 7. Is there a correlation between the price of a listing and its service fee?"
   ]
  },
  {
   "cell_type": "code",
   "execution_count": null,
   "id": "f2576271",
   "metadata": {},
   "outputs": [],
   "source": [
    "air = pd.read_excel('Airbnb_Open_Data_Set.xlsx', sheet_name='in')\n",
    "air.columns = [c.strip().lower() for c in air.columns]\n",
    "pcol = 'price' if 'price' in air.columns else None\n",
    "fcol_candidates = ['service fee','service_fee','service fees','service_fees']\n",
    "fcol = next((c for c in fcol_candidates if c in air.columns), None)\n",
    "if pcol is None or fcol is None:\n",
    "    print('Missing price or service fee column')\n",
    "else:\n",
    "    air[pcol] = pd.to_numeric(air[pcol], errors='coerce')\n",
    "    air[fcol] = pd.to_numeric(air[fcol], errors='coerce')\n",
    "    dfc = air[[pcol, fcol]].dropna()\n",
    "    p_cap = dfc[pcol].quantile(0.99)\n",
    "    f_cap = dfc[fcol].quantile(0.99)\n",
    "    dfc = dfc[(dfc[pcol] >= 0) & (dfc[pcol] <= p_cap) & (dfc[fcol] >= 0) & (dfc[fcol] <= f_cap)]\n",
    "    if len(dfc) > 1:\n",
    "        pear = dfc[pcol].corr(dfc[fcol], method='pearson')\n",
    "        spear = dfc[pcol].corr(dfc[fcol], method='spearman')\n",
    "        print(pear)\n",
    "        print(spear)\n",
    "        plt.figure(figsize=(6.5,4.5))\n",
    "        sns.regplot(data=dfc, x=pcol, y=fcol, scatter_kws={'alpha':0.25, 's':12}, line_kws={'color':'#E45756'})\n",
    "        plt.xlabel('Price')\n",
    "        plt.ylabel('Service fee')\n",
    "        plt.title('Service fee vs Price')\n",
    "        plt.tight_layout()\n",
    "        plt.show()\n",
    "        dfc['price_bin'] = pd.qcut(dfc[pcol], 10, duplicates='drop')\n",
    "        bin_avg = dfc.groupby('price_bin')[fcol].mean()\n",
    "        print(bin_avg)\n",
    "        plt.figure(figsize=(6.5,4))\n",
    "        sns.lineplot(x=range(len(bin_avg)), y=bin_avg.values, marker='o')\n",
    "        plt.xlabel('Price decile (low to high)')\n",
    "        plt.ylabel('Avg service fee')\n",
    "        plt.title('Avg service fee by price decile')\n",
    "        plt.tight_layout()\n",
    "        plt.show()\n",
    "    else:\n",
    "        print('Insufficient rows for correlation')\n",
    "print('Computed correlations and displayed two charts')"
   ]
  }
 ],
 "metadata": {},
 "nbformat": 4,
 "nbformat_minor": 5
}
